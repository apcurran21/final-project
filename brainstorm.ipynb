{
 "cells": [
  {
   "cell_type": "markdown",
   "id": "7223ce0d-9b9b-46dd-aa8e-6d4622d51bed",
   "metadata": {},
   "source": [
    "# Picking a topic\n",
    "### Discuss our choices with jinshuo in office hours\n",
    "* __\"Study and try out private multiplicative weights algorithm for generating an entire synthetic dataset. See Kamath Lecture 8\"__\n",
    "    * I like this project idea, it seems like the most interesting topic given\n",
    "    * The algorithm is already implemented in Julia\n",
    "        * follow this link to see the code in github: https://github.com/mrtzh/PrivateMultiplicativeWeights.jl\n",
    "    * we would also write a set of study notes / analysis of the algorithm\n",
    "    * test out the algorithm on small datasets and ml tasks\n",
    "    * depending on the julia code, we may be able to implement it ourselves in a language of our choice  \n",
    "* __\"Implement two or more mean estimation algorithms from Kamath Lecture 15.\"__\n",
    "    * this is also an interesting project that would allow us to do more coding than writing\n",
    "    * jinshuo said in class to definitely talk with him if we picked this topic, since some varieties of the mean estimation algorithms are way harder to implement  \n",
    "* __\"Implement Noisy SGD as in this paper or this paper. Try different datasets, network structure, hyperparameters etc.\"__\n",
    "    * again, this topic would include some coding\n",
    "    * we would also likely take study notes on the papers\n",
    "    * here are the links to the two papers:\n",
    "        * https://arxiv.org/abs/1607.00133\n",
    "        * https://arxiv.org/pdf/1905.02383\n",
    "* Reconstruction Attacks Using (Old) Census Data:\n",
    "    * link to tweetorial: https://twitter.com/john_abowd/status/1114942180278272000\n",
    "    * link to paper: https://ecommons.cornell.edu/handle/1813/89104\n",
    "    * note -- also look at kamath lec 1\n",
    "    "
   ]
  },
  {
   "cell_type": "markdown",
   "id": "a6a560ad-af21-491a-80c1-36e5be83318e",
   "metadata": {},
   "source": [
    "### Notes from Wednesday 5/17 office hours\n",
    "* look for cited papers that "
   ]
  }
 ],
 "metadata": {
  "kernelspec": {
   "display_name": "Python 3 (ipykernel)",
   "language": "python",
   "name": "python3"
  },
  "language_info": {
   "codemirror_mode": {
    "name": "ipython",
    "version": 3
   },
   "file_extension": ".py",
   "mimetype": "text/x-python",
   "name": "python",
   "nbconvert_exporter": "python",
   "pygments_lexer": "ipython3",
   "version": "3.11.3"
  }
 },
 "nbformat": 4,
 "nbformat_minor": 5
}
