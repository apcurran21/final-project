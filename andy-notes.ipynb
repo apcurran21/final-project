{
 "cells": [
  {
   "cell_type": "markdown",
   "id": "1b059fbd-b4f0-4046-afcb-cd90a7297580",
   "metadata": {
    "tags": []
   },
   "source": [
    "# Notes and Prelim Work"
   ]
  },
  {
   "cell_type": "markdown",
   "id": "e16181f7-63b8-417f-b8b5-9238365c4a00",
   "metadata": {
    "jp-MarkdownHeadingCollapsed": true,
    "tags": []
   },
   "source": [
    "### Plan\n",
    "use this doc to explore the two different topics we're interested in for the project. Danny will have his own notes file, and we can read and compare each others files in github. Once we've worked out what we actually want from this project, we can begin collaborating on the actual report.\n",
    "\n",
    "##### Useful Links\n",
    "* Kamath course offering: http://www.gautamkamath.com/CS860-fa2020.html"
   ]
  },
  {
   "cell_type": "markdown",
   "id": "17509f12-27b0-414e-a34c-e2508249a2fb",
   "metadata": {
    "tags": []
   },
   "source": [
    "### Topics\n",
    "Right now we are interested in the following two topics, but will likely choose the **data reconstruction attack** one."
   ]
  },
  {
   "cell_type": "markdown",
   "id": "baf54026-29be-4d87-bade-b536ea02113d",
   "metadata": {},
   "source": [
    "#### Reconstruction Attacks Using (Old) Census Data:\n",
    "* Links:\n",
    "    * tweetorial: https://twitter.com/john_abowd/status/1114942180278272000\n",
    "    * paper: https://ecommons.cornell.edu/handle/1813/89104\n",
    "    * slides: https://bpb-us-e1.wpmucdn.com/blogs.cornell.edu/dist/4/7616/files/2019/04/2019-02-16-Abowd-AAAS-Slides-Saturday-330-500-session-FINAL-as-delivered-1iqsdg2.pdf\n",
    "    * note -- also look at kamath lec 1\n",
    "* Goals:\n",
    "    * Primarily, we want to conduct a successful data reconstruction attack to further motivate / justify our study of differential privacy.\n",
    "        * Ideally, we gain access to the same census dataset used in the tweetorial / paper, and the recover results that are comparable to the ones shown in Abowd's slides.\n",
    "        * However this is a large dataset and would likely be difficult - we could start with a smaller dataset and perform a reconstruction attack on it instead.\n",
    "    * If we have the time / energy, another goal is to implement one of the methods learned in class to make that dataset private.\n",
    "        * Then, we perform another reconstruction attack - this time with the hope that we are unsuccessful.\n",
    "        * When comparing these results with the results on the non-private dataset, we should be able to reason about how good our attempt at privacy was.\n",
    "* Notes:\n",
    "    * Even if we aren't able to perfectly recreate the results we want, that is okay. Thoughtout the process, we should be taking detailed notes so that we can describe in the final report where we potentially went wrong, limitations we faced, and what to improve on or change in the future.\n",
    "    * A successful report will likely include code, figures / results, and commentary / conclusions."
   ]
  },
  {
   "cell_type": "markdown",
   "id": "d0d4d406-3619-4a2f-b750-db5f9c5ef5d0",
   "metadata": {},
   "source": [
    "#### "
   ]
  }
 ],
 "metadata": {
  "kernelspec": {
   "display_name": "Python 3 (ipykernel)",
   "language": "python",
   "name": "python3"
  },
  "language_info": {
   "codemirror_mode": {
    "name": "ipython",
    "version": 3
   },
   "file_extension": ".py",
   "mimetype": "text/x-python",
   "name": "python",
   "nbconvert_exporter": "python",
   "pygments_lexer": "ipython3",
   "version": "3.11.3"
  }
 },
 "nbformat": 4,
 "nbformat_minor": 5
}
